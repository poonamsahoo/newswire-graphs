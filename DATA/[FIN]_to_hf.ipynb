{
  "nbformat": 4,
  "nbformat_minor": 0,
  "metadata": {
    "colab": {
      "provenance": []
    },
    "kernelspec": {
      "name": "python3",
      "display_name": "Python 3"
    },
    "language_info": {
      "name": "python"
    }
  },
  "cells": [
    {
      "cell_type": "markdown",
      "source": [
        "This notebook pushes filtered datasets to hugging face, for ease of use later."
      ],
      "metadata": {
        "id": "CuiTdMaDEjH4"
      }
    },
    {
      "cell_type": "code",
      "execution_count": null,
      "metadata": {
        "id": "idK_AQOlpAEX"
      },
      "outputs": [],
      "source": [
        "#imports\n",
        "from huggingface_hub import DatasetCard\n",
        "from huggingface_hub import login\n",
        "\n",
        "!pip install huggingface_hub\n",
        "!pip install datasets"
      ]
    },
    {
      "cell_type": "code",
      "source": [
        "#original dataset\n",
        "from datasets import load_dataset\n",
        "\n",
        "dataset = load_dataset(\"dell-research-harvard/newswire\") # , split='train', split='none'"
      ],
      "metadata": {
        "id": "8vWVgZXFpHzv"
      },
      "execution_count": null,
      "outputs": []
    },
    {
      "cell_type": "code",
      "source": [
        "# huggingface-cli login\n",
        "login(token=\"INSERT TOKEN\")"
      ],
      "metadata": {
        "id": "SUZfMOBctXIy"
      },
      "execution_count": null,
      "outputs": []
    },
    {
      "cell_type": "code",
      "source": [
        "#get data for desired decades. want to filter out articles without wire coordinates\n",
        "dataset = dataset.filter(lambda x: x['wire_coordinates'] != [])\n",
        "\n",
        "for decade in [1920, 1940, 1960]:\n",
        "    df = dataset.filter(lambda example: (decade <= example[\"year\"] < decade + 10))\n",
        "    df.push_to_hub(f\"pnsahoo/newswire-{decade}-{decade+9}\")"
      ],
      "metadata": {
        "id": "X0ZcGDqbF3yT"
      },
      "execution_count": null,
      "outputs": []
    }
  ]
}